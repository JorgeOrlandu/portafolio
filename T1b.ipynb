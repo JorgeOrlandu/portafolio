{
  "nbformat": 4,
  "nbformat_minor": 0,
  "metadata": {
    "colab": {
      "provenance": [],
      "authorship_tag": "ABX9TyP5KjoTbuhniuheV5VhE7Sl",
      "include_colab_link": true
    },
    "kernelspec": {
      "name": "python3",
      "display_name": "Python 3"
    },
    "language_info": {
      "name": "python"
    }
  },
  "cells": [
    {
      "cell_type": "markdown",
      "metadata": {
        "id": "view-in-github",
        "colab_type": "text"
      },
      "source": [
        "<a href=\"https://colab.research.google.com/github/JorgeOrlandu/portafolio/blob/main/T1b.ipynb\" target=\"_parent\"><img src=\"https://colab.research.google.com/assets/colab-badge.svg\" alt=\"Open In Colab\"/></a>"
      ]
    },
    {
      "cell_type": "code",
      "execution_count": null,
      "metadata": {
        "id": "UKJUM_sFPOg1"
      },
      "outputs": [],
      "source": [
        "palabras = ['avión', 'perro', 'gato', 'avión', 'edificio', 'gato']\n",
        "ocurrencias = calcular_ocurrencias(palabras)\n",
        "print(ocurrencias)\n",
        "\n",
        "\n"
      ]
    }
  ]
}